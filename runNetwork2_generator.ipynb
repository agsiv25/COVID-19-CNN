{
 "cells": [
  {
   "cell_type": "code",
   "execution_count": 10,
   "metadata": {},
   "outputs": [],
   "source": [
    "import numpy as np\n",
    "import matplotlib.pyplot as plt\n",
    "import os\n",
    "from keras.preprocessing.image import ImageDataGenerator"
   ]
  },
  {
   "cell_type": "code",
   "execution_count": 11,
   "metadata": {},
   "outputs": [],
   "source": [
    "# Set parameters here \n",
    "INPUT_SIZE = 256\n",
    "mapping = {0:'normal', 1:'other'}\n",
    "NUMCLASSES = len(mapping)\n",
    "LESS_TRAIN = 2000\n",
    "LESS_VAL = 500\n",
    "\n",
    "folder = r'C:\\Users\\arung\\OneDrive\\Desktop\\COVID 19 Chest Xray\\nih'\n",
    "\n",
    "trainFolder = folder + r'\\train'\n",
    "valFolder = folder + r'\\val'\n",
    "testFolder = folder + r'\\test'\n"
   ]
  },
  {
   "cell_type": "code",
   "execution_count": 12,
   "metadata": {},
   "outputs": [],
   "source": [
    "train_datagen = ImageDataGenerator(rescale=1./255,\n",
    "                                   shear_range=0.2,\n",
    "                                   zoom_range=0.2,\n",
    "                                   rotation_range=5,\n",
    "                                   horizontal_flip=False,\n",
    "                                   vertical_flip=False,\n",
    "                                   validation_split = .2)\n",
    "test_datagen = ImageDataGenerator(rescale=1./255,\n",
    "                                  validation_split = .2)"
   ]
  },
  {
   "cell_type": "code",
   "execution_count": 13,
   "metadata": {},
   "outputs": [
    {
     "name": "stdout",
     "output_type": "stream",
     "text": [
      "Found 8004 images belonging to 2 classes.\n",
      "Found 802 images belonging to 2 classes.\n"
     ]
    }
   ],
   "source": [
    "training_set = train_datagen.flow_from_directory(trainFolder,\n",
    "                                       target_size=(INPUT_SIZE, INPUT_SIZE),\n",
    "                                                batch_size=16,\n",
    "                                     class_mode='categorical',\n",
    "                                            subset='training')\n",
    "\n",
    "validation_set = test_datagen.flow_from_directory(valFolder,\n",
    "                                        target_size=(INPUT_SIZE, INPUT_SIZE),\n",
    "                                                 batch_size=32,\n",
    "                                      class_mode='categorical',\n",
    "                                               shuffle = False,\n",
    "                                           subset='validation')"
   ]
  },
  {
   "cell_type": "code",
   "execution_count": 14,
   "metadata": {},
   "outputs": [
    {
     "name": "stdout",
     "output_type": "stream",
     "text": [
      "Model: \"sequential_2\"\n",
      "_________________________________________________________________\n",
      "Layer (type)                 Output Shape              Param #   \n",
      "=================================================================\n",
      "conv2d_7 (Conv2D)            (None, 256, 256, 32)      896       \n",
      "_________________________________________________________________\n",
      "conv2d_8 (Conv2D)            (None, 256, 256, 32)      9248      \n",
      "_________________________________________________________________\n",
      "max_pooling2d_4 (MaxPooling2 (None, 128, 128, 32)      0         \n",
      "_________________________________________________________________\n",
      "dropout_6 (Dropout)          (None, 128, 128, 32)      0         \n",
      "_________________________________________________________________\n",
      "conv2d_9 (Conv2D)            (None, 128, 128, 64)      18496     \n",
      "_________________________________________________________________\n",
      "conv2d_10 (Conv2D)           (None, 128, 128, 64)      36928     \n",
      "_________________________________________________________________\n",
      "max_pooling2d_5 (MaxPooling2 (None, 64, 64, 64)        0         \n",
      "_________________________________________________________________\n",
      "dropout_7 (Dropout)          (None, 64, 64, 64)        0         \n",
      "_________________________________________________________________\n",
      "conv2d_11 (Conv2D)           (None, 64, 64, 128)       73856     \n",
      "_________________________________________________________________\n",
      "conv2d_12 (Conv2D)           (None, 64, 64, 128)       147584    \n",
      "_________________________________________________________________\n",
      "max_pooling2d_6 (MaxPooling2 (None, 32, 32, 128)       0         \n",
      "_________________________________________________________________\n",
      "dropout_8 (Dropout)          (None, 32, 32, 128)       0         \n",
      "_________________________________________________________________\n",
      "flatten_2 (Flatten)          (None, 131072)            0         \n",
      "_________________________________________________________________\n",
      "dense_4 (Dense)              (None, 256)               33554688  \n",
      "_________________________________________________________________\n",
      "dropout_9 (Dropout)          (None, 256)               0         \n",
      "_________________________________________________________________\n",
      "dense_5 (Dense)              (None, 128)               32896     \n",
      "_________________________________________________________________\n",
      "dropout_10 (Dropout)         (None, 128)               0         \n",
      "_________________________________________________________________\n",
      "dense_6 (Dense)              (None, 2)                 258       \n",
      "=================================================================\n",
      "Total params: 33,874,850\n",
      "Trainable params: 33,874,850\n",
      "Non-trainable params: 0\n",
      "_________________________________________________________________\n"
     ]
    }
   ],
   "source": [
    "from keras.models import Sequential\n",
    "import tensorflow as tf\n",
    "from keras.layers import *\n",
    "from keras.optimizers import *\n",
    "#from sklearn.model_selection import train_test_split\n",
    "#os.environ['CUDA_VISIBLE_DEVICES'] = '-1'\n",
    "\n",
    "model = Sequential()\n",
    "\n",
    "model.add(InputLayer(input_shape=[INPUT_SIZE,INPUT_SIZE,3])) #keras will internally add batch dimension\n",
    "\n",
    "model.add(Conv2D(filters=32,kernel_size=3,strides=1,padding='same', activation='relu'))\n",
    "model.add(Conv2D(filters=32,kernel_size=3,strides=1,padding='same', activation='relu'))\n",
    "model.add(MaxPool2D(pool_size=2,padding='same'))\n",
    "model.add(Dropout(0.4))\n",
    "\n",
    "model.add(Conv2D(filters=64,kernel_size=3,strides=1,padding='same', activation='relu'))\n",
    "model.add(Conv2D(filters=64,kernel_size=3,strides=1,padding='same', activation='relu'))\n",
    "model.add(MaxPool2D(pool_size=2,padding='same'))\n",
    "model.add(Dropout(0.4))\n",
    "\n",
    "model.add(Conv2D(filters=128,kernel_size=3,strides=1,padding='same', activation='relu'))\n",
    "model.add(Conv2D(filters=128,kernel_size=3,strides=1,padding='same', activation='relu'))\n",
    "model.add(MaxPool2D(pool_size=2,padding='same'))\n",
    "model.add(Dropout(0.4))\n",
    "\n",
    "model.add(Flatten())\n",
    "\n",
    "\n",
    "model.add(Dense(256,activation='relu'))\n",
    "model.add(Dropout(0.4))\n",
    "\n",
    "model.add(Dense(128,activation='relu'))\n",
    "model.add(Dropout(0.4))\n",
    "\n",
    "model.add(Dense(NUMCLASSES,activation='softmax'))\n",
    "\n",
    "\n",
    "model.compile(optimizer=Adam(lr=0.00001), loss='categorical_crossentropy',metrics=['accuracy'])\n",
    "model.summary()\n",
    "\n"
   ]
  },
  {
   "cell_type": "code",
   "execution_count": 15,
   "metadata": {},
   "outputs": [
    {
     "name": "stdout",
     "output_type": "stream",
     "text": [
      "Epoch 1/100\n",
      "501/501 [==============================] - 248s 496ms/step - loss: 0.6953 - accuracy: 0.5166 - val_loss: 0.7117 - val_accuracy: 0.4988\n",
      "Epoch 2/100\n",
      "501/501 [==============================] - 147s 294ms/step - loss: 0.6915 - accuracy: 0.5245 - val_loss: 0.7070 - val_accuracy: 0.5287\n",
      "Epoch 3/100\n",
      "501/501 [==============================] - 263s 526ms/step - loss: 0.6876 - accuracy: 0.5410 - val_loss: 0.7139 - val_accuracy: 0.6022\n",
      "Epoch 4/100\n",
      "501/501 [==============================] - 198s 395ms/step - loss: 0.6849 - accuracy: 0.5543 - val_loss: 0.7308 - val_accuracy: 0.5860\n",
      "Epoch 5/100\n",
      "501/501 [==============================] - 348s 694ms/step - loss: 0.6813 - accuracy: 0.5595 - val_loss: 0.7323 - val_accuracy: 0.6047\n",
      "Epoch 6/100\n",
      "501/501 [==============================] - 157s 312ms/step - loss: 0.6775 - accuracy: 0.5813 - val_loss: 0.7670 - val_accuracy: 0.6010\n",
      "Epoch 7/100\n",
      "501/501 [==============================] - 353s 704ms/step - loss: 0.6769 - accuracy: 0.5832 - val_loss: 0.7490 - val_accuracy: 0.5885\n",
      "Epoch 8/100\n",
      "501/501 [==============================] - 432s 863ms/step - loss: 0.6774 - accuracy: 0.5810 - val_loss: 0.7454 - val_accuracy: 0.5910\n",
      "Epoch 9/100\n",
      "501/501 [==============================] - 160s 320ms/step - loss: 0.6740 - accuracy: 0.5868 - val_loss: 0.7135 - val_accuracy: 0.5761\n",
      "Epoch 10/100\n",
      "501/501 [==============================] - 137s 274ms/step - loss: 0.6733 - accuracy: 0.5936 - val_loss: 0.7361 - val_accuracy: 0.5786\n",
      "Epoch 11/100\n",
      "501/501 [==============================] - 140s 280ms/step - loss: 0.6720 - accuracy: 0.5898 - val_loss: 0.7202 - val_accuracy: 0.5786\n",
      "Epoch 12/100\n",
      "501/501 [==============================] - 140s 280ms/step - loss: 0.6719 - accuracy: 0.5936 - val_loss: 0.7228 - val_accuracy: 0.5748\n",
      "Epoch 13/100\n",
      "501/501 [==============================] - 139s 277ms/step - loss: 0.6697 - accuracy: 0.5908 - val_loss: 0.7277 - val_accuracy: 0.5748\n",
      "Epoch 14/100\n",
      "501/501 [==============================] - 144s 287ms/step - loss: 0.6718 - accuracy: 0.5981 - val_loss: 0.7166 - val_accuracy: 0.5786\n",
      "Epoch 15/100\n",
      "501/501 [==============================] - 146s 292ms/step - loss: 0.6685 - accuracy: 0.5981 - val_loss: 0.7347 - val_accuracy: 0.5810\n",
      "Epoch 16/100\n",
      "501/501 [==============================] - 151s 301ms/step - loss: 0.6686 - accuracy: 0.5975 - val_loss: 0.7149 - val_accuracy: 0.5798\n",
      "Epoch 17/100\n",
      "501/501 [==============================] - 149s 297ms/step - loss: 0.6683 - accuracy: 0.5990 - val_loss: 0.7192 - val_accuracy: 0.5835\n",
      "Epoch 18/100\n",
      "501/501 [==============================] - 161s 321ms/step - loss: 0.6696 - accuracy: 0.6000 - val_loss: 0.7271 - val_accuracy: 0.5848\n",
      "Epoch 19/100\n",
      "501/501 [==============================] - 164s 327ms/step - loss: 0.6662 - accuracy: 0.6087 - val_loss: 0.6929 - val_accuracy: 0.5935\n",
      "Epoch 20/100\n",
      "501/501 [==============================] - 164s 327ms/step - loss: 0.6652 - accuracy: 0.6077 - val_loss: 0.7020 - val_accuracy: 0.5761\n",
      "Epoch 21/100\n",
      "501/501 [==============================] - 179s 357ms/step - loss: 0.6676 - accuracy: 0.6002 - val_loss: 0.6869 - val_accuracy: 0.5773\n",
      "Epoch 22/100\n",
      "501/501 [==============================] - 180s 358ms/step - loss: 0.6648 - accuracy: 0.6043 - val_loss: 0.7036 - val_accuracy: 0.6085\n",
      "Epoch 23/100\n",
      "501/501 [==============================] - 171s 342ms/step - loss: 0.6671 - accuracy: 0.5971 - val_loss: 0.7145 - val_accuracy: 0.6097\n",
      "Epoch 24/100\n",
      "501/501 [==============================] - 160s 319ms/step - loss: 0.6661 - accuracy: 0.6051 - val_loss: 0.7020 - val_accuracy: 0.6072\n",
      "Epoch 25/100\n",
      "501/501 [==============================] - 154s 308ms/step - loss: 0.6638 - accuracy: 0.6026 - val_loss: 0.7047 - val_accuracy: 0.6085\n",
      "Epoch 26/100\n",
      "501/501 [==============================] - 158s 316ms/step - loss: 0.6668 - accuracy: 0.6007 - val_loss: 0.6905 - val_accuracy: 0.6197\n",
      "Epoch 27/100\n",
      "501/501 [==============================] - 166s 332ms/step - loss: 0.6639 - accuracy: 0.6093 - val_loss: 0.6734 - val_accuracy: 0.5948\n",
      "Epoch 28/100\n",
      "501/501 [==============================] - 172s 343ms/step - loss: 0.6631 - accuracy: 0.6087 - val_loss: 0.6894 - val_accuracy: 0.5848\n",
      "Epoch 29/100\n",
      "501/501 [==============================] - 167s 334ms/step - loss: 0.6611 - accuracy: 0.6078 - val_loss: 0.6632 - val_accuracy: 0.5898\n",
      "Epoch 30/100\n",
      "501/501 [==============================] - 165s 329ms/step - loss: 0.6585 - accuracy: 0.6129 - val_loss: 0.6981 - val_accuracy: 0.6047\n",
      "Epoch 31/100\n",
      "501/501 [==============================] - 166s 331ms/step - loss: 0.6617 - accuracy: 0.6062 - val_loss: 0.7053 - val_accuracy: 0.6209\n",
      "Epoch 32/100\n",
      "501/501 [==============================] - 158s 316ms/step - loss: 0.6619 - accuracy: 0.6067 - val_loss: 0.7170 - val_accuracy: 0.6122\n",
      "Epoch 33/100\n",
      "501/501 [==============================] - 160s 319ms/step - loss: 0.6612 - accuracy: 0.6082 - val_loss: 0.6711 - val_accuracy: 0.6135\n",
      "Epoch 34/100\n",
      "501/501 [==============================] - 160s 319ms/step - loss: 0.6622 - accuracy: 0.6083 - val_loss: 0.6968 - val_accuracy: 0.6147\n",
      "Epoch 35/100\n",
      "501/501 [==============================] - 160s 320ms/step - loss: 0.6595 - accuracy: 0.6126 - val_loss: 0.6936 - val_accuracy: 0.6209\n",
      "Epoch 36/100\n",
      "501/501 [==============================] - 160s 319ms/step - loss: 0.6546 - accuracy: 0.6178 - val_loss: 0.6982 - val_accuracy: 0.6247\n",
      "Epoch 37/100\n",
      "501/501 [==============================] - 159s 318ms/step - loss: 0.6576 - accuracy: 0.6153 - val_loss: 0.6860 - val_accuracy: 0.5985\n",
      "Epoch 38/100\n",
      "501/501 [==============================] - 165s 330ms/step - loss: 0.6556 - accuracy: 0.6129 - val_loss: 0.6783 - val_accuracy: 0.6172\n",
      "Epoch 39/100\n",
      "501/501 [==============================] - 170s 340ms/step - loss: 0.6572 - accuracy: 0.6148 - val_loss: 0.7071 - val_accuracy: 0.5998\n",
      "Epoch 40/100\n",
      "501/501 [==============================] - 161s 322ms/step - loss: 0.6584 - accuracy: 0.6131 - val_loss: 0.6656 - val_accuracy: 0.6035\n",
      "Epoch 41/100\n",
      "501/501 [==============================] - 170s 340ms/step - loss: 0.6560 - accuracy: 0.6174 - val_loss: 0.6620 - val_accuracy: 0.5723\n",
      "Epoch 42/100\n",
      "501/501 [==============================] - 166s 332ms/step - loss: 0.6542 - accuracy: 0.6182 - val_loss: 0.6564 - val_accuracy: 0.6072\n",
      "Epoch 43/100\n",
      "501/501 [==============================] - 159s 317ms/step - loss: 0.6530 - accuracy: 0.6228 - val_loss: 0.7630 - val_accuracy: 0.6172\n",
      "Epoch 44/100\n",
      "501/501 [==============================] - 158s 316ms/step - loss: 0.6572 - accuracy: 0.6163 - val_loss: 0.7075 - val_accuracy: 0.6035\n",
      "Epoch 45/100\n",
      "501/501 [==============================] - 168s 336ms/step - loss: 0.6545 - accuracy: 0.6182 - val_loss: 0.6667 - val_accuracy: 0.5761\n",
      "Epoch 46/100\n",
      "501/501 [==============================] - 161s 321ms/step - loss: 0.6540 - accuracy: 0.6163 - val_loss: 0.6605 - val_accuracy: 0.5998\n",
      "Epoch 47/100\n",
      "501/501 [==============================] - 166s 332ms/step - loss: 0.6539 - accuracy: 0.6199 - val_loss: 0.7240 - val_accuracy: 0.6172\n",
      "Epoch 48/100\n",
      "501/501 [==============================] - 158s 315ms/step - loss: 0.6503 - accuracy: 0.6218 - val_loss: 0.7228 - val_accuracy: 0.6222\n",
      "Epoch 49/100\n",
      "501/501 [==============================] - 158s 316ms/step - loss: 0.6530 - accuracy: 0.6168 - val_loss: 0.6423 - val_accuracy: 0.6047\n",
      "Epoch 50/100\n",
      "501/501 [==============================] - 158s 315ms/step - loss: 0.6555 - accuracy: 0.6226 - val_loss: 0.7673 - val_accuracy: 0.6234\n",
      "Epoch 51/100\n",
      "501/501 [==============================] - 158s 316ms/step - loss: 0.6514 - accuracy: 0.6202 - val_loss: 0.7375 - val_accuracy: 0.6185\n",
      "Epoch 52/100\n",
      "501/501 [==============================] - 158s 316ms/step - loss: 0.6532 - accuracy: 0.6159 - val_loss: 0.6876 - val_accuracy: 0.6135\n",
      "Epoch 53/100\n",
      "501/501 [==============================] - 166s 331ms/step - loss: 0.6520 - accuracy: 0.6224 - val_loss: 0.7095 - val_accuracy: 0.5985\n",
      "Epoch 54/100\n",
      "501/501 [==============================] - 158s 315ms/step - loss: 0.6482 - accuracy: 0.6227 - val_loss: 0.7606 - val_accuracy: 0.6272\n",
      "Epoch 55/100\n",
      "501/501 [==============================] - 160s 319ms/step - loss: 0.6485 - accuracy: 0.6268 - val_loss: 0.8131 - val_accuracy: 0.6060\n",
      "Epoch 56/100\n"
     ]
    },
    {
     "name": "stdout",
     "output_type": "stream",
     "text": [
      "320/501 [==================>...........] - ETA: 52s - loss: 0.6499 - accuracy: 0.6306"
     ]
    },
    {
     "ename": "KeyboardInterrupt",
     "evalue": "",
     "output_type": "error",
     "traceback": [
      "\u001b[1;31m---------------------------------------------------------------------------\u001b[0m",
      "\u001b[1;31mKeyboardInterrupt\u001b[0m                         Traceback (most recent call last)",
      "\u001b[1;32m<ipython-input-15-53c80bde9619>\u001b[0m in \u001b[0;36m<module>\u001b[1;34m\u001b[0m\n\u001b[0;32m      6\u001b[0m                     \u001b[0mepochs\u001b[0m\u001b[1;33m=\u001b[0m\u001b[1;36m100\u001b[0m\u001b[1;33m,\u001b[0m\u001b[1;33m\u001b[0m\u001b[1;33m\u001b[0m\u001b[0m\n\u001b[0;32m      7\u001b[0m                     \u001b[0mvalidation_data\u001b[0m\u001b[1;33m=\u001b[0m\u001b[0mvalidation_set\u001b[0m\u001b[1;33m,\u001b[0m\u001b[1;33m\u001b[0m\u001b[1;33m\u001b[0m\u001b[0m\n\u001b[1;32m----> 8\u001b[1;33m                     validation_steps = len(validation_set))\n\u001b[0m\u001b[0;32m      9\u001b[0m \u001b[1;33m\u001b[0m\u001b[0m\n\u001b[0;32m     10\u001b[0m \u001b[0mmodel\u001b[0m\u001b[1;33m.\u001b[0m\u001b[0msave_weights\u001b[0m\u001b[1;33m(\u001b[0m\u001b[1;34m\"model-normalized.h5\"\u001b[0m\u001b[1;33m)\u001b[0m\u001b[1;33m\u001b[0m\u001b[1;33m\u001b[0m\u001b[0m\n",
      "\u001b[1;32m~\\anaconda3\\lib\\site-packages\\keras\\legacy\\interfaces.py\u001b[0m in \u001b[0;36mwrapper\u001b[1;34m(*args, **kwargs)\u001b[0m\n\u001b[0;32m     89\u001b[0m                 warnings.warn('Update your `' + object_name + '` call to the ' +\n\u001b[0;32m     90\u001b[0m                               'Keras 2 API: ' + signature, stacklevel=2)\n\u001b[1;32m---> 91\u001b[1;33m             \u001b[1;32mreturn\u001b[0m \u001b[0mfunc\u001b[0m\u001b[1;33m(\u001b[0m\u001b[1;33m*\u001b[0m\u001b[0margs\u001b[0m\u001b[1;33m,\u001b[0m \u001b[1;33m**\u001b[0m\u001b[0mkwargs\u001b[0m\u001b[1;33m)\u001b[0m\u001b[1;33m\u001b[0m\u001b[1;33m\u001b[0m\u001b[0m\n\u001b[0m\u001b[0;32m     92\u001b[0m         \u001b[0mwrapper\u001b[0m\u001b[1;33m.\u001b[0m\u001b[0m_original_function\u001b[0m \u001b[1;33m=\u001b[0m \u001b[0mfunc\u001b[0m\u001b[1;33m\u001b[0m\u001b[1;33m\u001b[0m\u001b[0m\n\u001b[0;32m     93\u001b[0m         \u001b[1;32mreturn\u001b[0m \u001b[0mwrapper\u001b[0m\u001b[1;33m\u001b[0m\u001b[1;33m\u001b[0m\u001b[0m\n",
      "\u001b[1;32m~\\anaconda3\\lib\\site-packages\\keras\\engine\\training.py\u001b[0m in \u001b[0;36mfit_generator\u001b[1;34m(self, generator, steps_per_epoch, epochs, verbose, callbacks, validation_data, validation_steps, validation_freq, class_weight, max_queue_size, workers, use_multiprocessing, shuffle, initial_epoch)\u001b[0m\n\u001b[0;32m   1730\u001b[0m             \u001b[0muse_multiprocessing\u001b[0m\u001b[1;33m=\u001b[0m\u001b[0muse_multiprocessing\u001b[0m\u001b[1;33m,\u001b[0m\u001b[1;33m\u001b[0m\u001b[1;33m\u001b[0m\u001b[0m\n\u001b[0;32m   1731\u001b[0m             \u001b[0mshuffle\u001b[0m\u001b[1;33m=\u001b[0m\u001b[0mshuffle\u001b[0m\u001b[1;33m,\u001b[0m\u001b[1;33m\u001b[0m\u001b[1;33m\u001b[0m\u001b[0m\n\u001b[1;32m-> 1732\u001b[1;33m             initial_epoch=initial_epoch)\n\u001b[0m\u001b[0;32m   1733\u001b[0m \u001b[1;33m\u001b[0m\u001b[0m\n\u001b[0;32m   1734\u001b[0m     \u001b[1;33m@\u001b[0m\u001b[0minterfaces\u001b[0m\u001b[1;33m.\u001b[0m\u001b[0mlegacy_generator_methods_support\u001b[0m\u001b[1;33m\u001b[0m\u001b[1;33m\u001b[0m\u001b[0m\n",
      "\u001b[1;32m~\\anaconda3\\lib\\site-packages\\keras\\engine\\training_generator.py\u001b[0m in \u001b[0;36mfit_generator\u001b[1;34m(model, generator, steps_per_epoch, epochs, verbose, callbacks, validation_data, validation_steps, validation_freq, class_weight, max_queue_size, workers, use_multiprocessing, shuffle, initial_epoch)\u001b[0m\n\u001b[0;32m    218\u001b[0m                                             \u001b[0msample_weight\u001b[0m\u001b[1;33m=\u001b[0m\u001b[0msample_weight\u001b[0m\u001b[1;33m,\u001b[0m\u001b[1;33m\u001b[0m\u001b[1;33m\u001b[0m\u001b[0m\n\u001b[0;32m    219\u001b[0m                                             \u001b[0mclass_weight\u001b[0m\u001b[1;33m=\u001b[0m\u001b[0mclass_weight\u001b[0m\u001b[1;33m,\u001b[0m\u001b[1;33m\u001b[0m\u001b[1;33m\u001b[0m\u001b[0m\n\u001b[1;32m--> 220\u001b[1;33m                                             reset_metrics=False)\n\u001b[0m\u001b[0;32m    221\u001b[0m \u001b[1;33m\u001b[0m\u001b[0m\n\u001b[0;32m    222\u001b[0m                 \u001b[0mouts\u001b[0m \u001b[1;33m=\u001b[0m \u001b[0mto_list\u001b[0m\u001b[1;33m(\u001b[0m\u001b[0mouts\u001b[0m\u001b[1;33m)\u001b[0m\u001b[1;33m\u001b[0m\u001b[1;33m\u001b[0m\u001b[0m\n",
      "\u001b[1;32m~\\anaconda3\\lib\\site-packages\\keras\\engine\\training.py\u001b[0m in \u001b[0;36mtrain_on_batch\u001b[1;34m(self, x, y, sample_weight, class_weight, reset_metrics)\u001b[0m\n\u001b[0;32m   1512\u001b[0m             \u001b[0mins\u001b[0m \u001b[1;33m=\u001b[0m \u001b[0mx\u001b[0m \u001b[1;33m+\u001b[0m \u001b[0my\u001b[0m \u001b[1;33m+\u001b[0m \u001b[0msample_weights\u001b[0m\u001b[1;33m\u001b[0m\u001b[1;33m\u001b[0m\u001b[0m\n\u001b[0;32m   1513\u001b[0m         \u001b[0mself\u001b[0m\u001b[1;33m.\u001b[0m\u001b[0m_make_train_function\u001b[0m\u001b[1;33m(\u001b[0m\u001b[1;33m)\u001b[0m\u001b[1;33m\u001b[0m\u001b[1;33m\u001b[0m\u001b[0m\n\u001b[1;32m-> 1514\u001b[1;33m         \u001b[0moutputs\u001b[0m \u001b[1;33m=\u001b[0m \u001b[0mself\u001b[0m\u001b[1;33m.\u001b[0m\u001b[0mtrain_function\u001b[0m\u001b[1;33m(\u001b[0m\u001b[0mins\u001b[0m\u001b[1;33m)\u001b[0m\u001b[1;33m\u001b[0m\u001b[1;33m\u001b[0m\u001b[0m\n\u001b[0m\u001b[0;32m   1515\u001b[0m \u001b[1;33m\u001b[0m\u001b[0m\n\u001b[0;32m   1516\u001b[0m         \u001b[1;32mif\u001b[0m \u001b[0mreset_metrics\u001b[0m\u001b[1;33m:\u001b[0m\u001b[1;33m\u001b[0m\u001b[1;33m\u001b[0m\u001b[0m\n",
      "\u001b[1;32m~\\anaconda3\\lib\\site-packages\\tensorflow\\python\\keras\\backend.py\u001b[0m in \u001b[0;36m__call__\u001b[1;34m(self, inputs)\u001b[0m\n\u001b[0;32m   3290\u001b[0m \u001b[1;33m\u001b[0m\u001b[0m\n\u001b[0;32m   3291\u001b[0m     fetched = self._callable_fn(*array_vals,\n\u001b[1;32m-> 3292\u001b[1;33m                                 run_metadata=self.run_metadata)\n\u001b[0m\u001b[0;32m   3293\u001b[0m     \u001b[0mself\u001b[0m\u001b[1;33m.\u001b[0m\u001b[0m_call_fetch_callbacks\u001b[0m\u001b[1;33m(\u001b[0m\u001b[0mfetched\u001b[0m\u001b[1;33m[\u001b[0m\u001b[1;33m-\u001b[0m\u001b[0mlen\u001b[0m\u001b[1;33m(\u001b[0m\u001b[0mself\u001b[0m\u001b[1;33m.\u001b[0m\u001b[0m_fetches\u001b[0m\u001b[1;33m)\u001b[0m\u001b[1;33m:\u001b[0m\u001b[1;33m]\u001b[0m\u001b[1;33m)\u001b[0m\u001b[1;33m\u001b[0m\u001b[1;33m\u001b[0m\u001b[0m\n\u001b[0;32m   3294\u001b[0m     output_structure = nest.pack_sequence_as(\n",
      "\u001b[1;32m~\\anaconda3\\lib\\site-packages\\tensorflow\\python\\client\\session.py\u001b[0m in \u001b[0;36m__call__\u001b[1;34m(self, *args, **kwargs)\u001b[0m\n\u001b[0;32m   1456\u001b[0m         ret = tf_session.TF_SessionRunCallable(self._session._session,\n\u001b[0;32m   1457\u001b[0m                                                \u001b[0mself\u001b[0m\u001b[1;33m.\u001b[0m\u001b[0m_handle\u001b[0m\u001b[1;33m,\u001b[0m \u001b[0margs\u001b[0m\u001b[1;33m,\u001b[0m\u001b[1;33m\u001b[0m\u001b[1;33m\u001b[0m\u001b[0m\n\u001b[1;32m-> 1458\u001b[1;33m                                                run_metadata_ptr)\n\u001b[0m\u001b[0;32m   1459\u001b[0m         \u001b[1;32mif\u001b[0m \u001b[0mrun_metadata\u001b[0m\u001b[1;33m:\u001b[0m\u001b[1;33m\u001b[0m\u001b[1;33m\u001b[0m\u001b[0m\n\u001b[0;32m   1460\u001b[0m           \u001b[0mproto_data\u001b[0m \u001b[1;33m=\u001b[0m \u001b[0mtf_session\u001b[0m\u001b[1;33m.\u001b[0m\u001b[0mTF_GetBuffer\u001b[0m\u001b[1;33m(\u001b[0m\u001b[0mrun_metadata_ptr\u001b[0m\u001b[1;33m)\u001b[0m\u001b[1;33m\u001b[0m\u001b[1;33m\u001b[0m\u001b[0m\n",
      "\u001b[1;31mKeyboardInterrupt\u001b[0m: "
     ]
    }
   ],
   "source": [
    "#Training\n",
    "c_weights = {0: 0.4, 1: 0.6}\n",
    "\n",
    "history = model.fit_generator(training_set,\n",
    "                    steps_per_epoch=len(training_set),\n",
    "                    epochs=100,\n",
    "                    validation_data=validation_set,\n",
    "                    validation_steps = len(validation_set))\n",
    "\n",
    "model.save_weights(\"model-normalized.h5\")\n",
    "print(\"Saved model to disk\")\n"
   ]
  },
  {
   "cell_type": "code",
   "execution_count": 16,
   "metadata": {},
   "outputs": [
    {
     "ename": "NameError",
     "evalue": "name 'history' is not defined",
     "output_type": "error",
     "traceback": [
      "\u001b[1;31m---------------------------------------------------------------------------\u001b[0m",
      "\u001b[1;31mNameError\u001b[0m                                 Traceback (most recent call last)",
      "\u001b[1;32m<ipython-input-16-b2dcc5d67f0d>\u001b[0m in \u001b[0;36m<module>\u001b[1;34m\u001b[0m\n\u001b[1;32m----> 1\u001b[1;33m \u001b[0mhistory\u001b[0m\u001b[1;33m.\u001b[0m\u001b[0mhistory\u001b[0m\u001b[1;33m.\u001b[0m\u001b[0mkeys\u001b[0m\u001b[1;33m(\u001b[0m\u001b[1;33m)\u001b[0m\u001b[1;33m\u001b[0m\u001b[1;33m\u001b[0m\u001b[0m\n\u001b[0m",
      "\u001b[1;31mNameError\u001b[0m: name 'history' is not defined"
     ]
    }
   ],
   "source": [
    "history.history.keys()"
   ]
  },
  {
   "cell_type": "code",
   "execution_count": 17,
   "metadata": {},
   "outputs": [
    {
     "data": {
      "image/png": "[encoded data removed]",
      "text/plain": [
       "<Figure size 576x288 with 1 Axes>"
      ]
     },
     "metadata": {
      "needs_background": "light"
     },
     "output_type": "display_data"
    }
   ],
   "source": [
    "fig = plt.figure(figsize=(8,4))\n",
    "plt.plot(history.history['loss'],color='red')\n",
    "plt.plot(history.history['acc'],color='green')\n",
    "plt.plot(history.history['val_loss'],color='magenta')\n",
    "plt.plot(history.history['val_acc'],color='blue')\n",
    "plt.show()"
   ]
  },
  {
   "cell_type": "code",
   "execution_count": null,
   "metadata": {},
   "outputs": [],
   "source": []
  },
  {
   "cell_type": "code",
   "execution_count": null,
   "metadata": {},
   "outputs": [],
   "source": []
  }
 ],
 "metadata": {
  "kernelspec": {
   "display_name": "Python 3",
   "language": "python",
   "name": "python3"
  },
  "language_info": {
   "codemirror_mode": {
    "name": "ipython",
    "version": 3
   },
   "file_extension": ".py",
   "mimetype": "text/x-python",
   "name": "python",
   "nbconvert_exporter": "python",
   "pygments_lexer": "ipython3",
   "version": "3.7.6"
  }
 },
 "nbformat": 4,
 "nbformat_minor": 4
}
