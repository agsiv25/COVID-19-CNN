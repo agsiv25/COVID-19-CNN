{
 "cells": [
  {
   "cell_type": "code",
   "execution_count": 1,
   "metadata": {},
   "outputs": [],
   "source": [
    "import pandas as pd\n",
    "import os\n",
    "import numpy as np"
   ]
  },
  {
   "cell_type": "code",
   "execution_count": 4,
   "metadata": {},
   "outputs": [],
   "source": [
    "covidFolder = r'C:\\Users\\arung\\OneDrive\\Desktop\\COVID 19 Chest Xray\\kaggle'\n",
    "radiopaedia = r'C:\\Users\\arung\\OneDrive\\Desktop\\COVID 19 Chest Xray\\radiopaedia'\n",
    "italian = r'C:\\Users\\arung\\OneDrive\\Desktop\\COVID 19 Chest Xray\\italian radiological society\\edited'\n",
    "otherFolder = r'C:\\Users\\arung\\OneDrive\\Desktop\\COVID 19 Chest Xray\\nih'"
   ]
  },
  {
   "cell_type": "code",
   "execution_count": 5,
   "metadata": {},
   "outputs": [
    {
     "data": {
      "text/plain": [
       "(232, 29)"
      ]
     },
     "execution_count": 5,
     "metadata": {},
     "output_type": "execute_result"
    }
   ],
   "source": [
    "mainDf =  pd.read_csv(covidFolder + '\\\\metadata.csv')\n",
    "mainDf =  mainDf[mainDf.finding=='COVID-19']\n",
    "mainDf =  mainDf[mainDf.modality=='X-ray']\n",
    "mainDf =  mainDf[mainDf.view!='L']\n",
    "mainDf.shape"
   ]
  },
  {
   "cell_type": "code",
   "execution_count": 6,
   "metadata": {},
   "outputs": [],
   "source": [
    "filenames = []\n",
    "labels = []\n",
    "for row in mainDf.filename:\n",
    "    filenames.append(covidFolder + '\\\\images\\\\' + row)\n",
    "    labels.append('COVID-19')\n"
   ]
  },
  {
   "cell_type": "code",
   "execution_count": 7,
   "metadata": {},
   "outputs": [],
   "source": [
    "radfiles = os.listdir(radiopaedia)\n",
    "for name in radfiles:\n",
    "    filenames.append(radiopaedia + '\\\\' + name)\n",
    "    labels.append('COVID-19')"
   ]
  },
  {
   "cell_type": "code",
   "execution_count": 8,
   "metadata": {},
   "outputs": [],
   "source": [
    "itfiles = os.listdir(italian)\n",
    "for name in itfiles:\n",
    "    filenames.append(italian + '\\\\' + name)\n",
    "    labels.append('COVID-19')"
   ]
  },
  {
   "cell_type": "code",
   "execution_count": 9,
   "metadata": {},
   "outputs": [
    {
     "data": {
      "text/plain": [
       "327"
      ]
     },
     "execution_count": 9,
     "metadata": {},
     "output_type": "execute_result"
    }
   ],
   "source": [
    "len(filenames)"
   ]
  },
  {
   "cell_type": "code",
   "execution_count": 10,
   "metadata": {},
   "outputs": [
    {
     "data": {
      "text/plain": [
       "(350, 2)"
      ]
     },
     "execution_count": 10,
     "metadata": {},
     "output_type": "execute_result"
    }
   ],
   "source": [
    "df = pd.read_csv(otherFolder + r'\\allfiles.csv')\n",
    "df_normal =  df[df.label=='normal']\n",
    "df_other =  df[df.label=='other']\n",
    "df_pneumonia = df[df.label=='pneumonia']\n",
    "# This next line is to use only some x% of the data\n",
    "df_normal = df_normal.sample(n = 350)\n",
    "df_other = df_other.sample(n = 350)\n",
    "#print(df['label'].value_counts())\n",
    "df_other.shape"
   ]
  },
  {
   "cell_type": "code",
   "execution_count": 11,
   "metadata": {},
   "outputs": [],
   "source": [
    "for name in df_normal.filename:\n",
    "    filenames.append(name)\n",
    "    labels.append('NORMAL')\n",
    "    \n",
    "for name in df_other.filename:\n",
    "    filenames.append(name)\n",
    "    labels.append('OTHER')\n",
    "    \n",
    "for name in df_pneumonia.filename:\n",
    "    filenames.append(name)\n",
    "    labels.append('PNEUMONIA')"
   ]
  },
  {
   "cell_type": "code",
   "execution_count": 13,
   "metadata": {},
   "outputs": [],
   "source": [
    "alldata = pd.DataFrame({'filename':filenames,'label':labels})\n",
    "alldata.to_csv(r'C:\\Users\\arung\\OneDrive\\Desktop\\COVID 19 Chest Xray\\nih\\fourClassFiles.csv', index=False)  "
   ]
  },
  {
   "cell_type": "code",
   "execution_count": null,
   "metadata": {},
   "outputs": [],
   "source": []
  },
  {
   "cell_type": "code",
   "execution_count": null,
   "metadata": {},
   "outputs": [],
   "source": []
  }
 ],
 "metadata": {
  "kernelspec": {
   "display_name": "Python 3",
   "language": "python",
   "name": "python3"
  },
  "language_info": {
   "codemirror_mode": {
    "name": "ipython",
    "version": 3
   },
   "file_extension": ".py",
   "mimetype": "text/x-python",
   "name": "python",
   "nbconvert_exporter": "python",
   "pygments_lexer": "ipython3",
   "version": "3.7.6"
  }
 },
 "nbformat": 4,
 "nbformat_minor": 4
}
