{
 "cells": [
  {
   "cell_type": "code",
   "execution_count": 1,
   "metadata": {},
   "outputs": [],
   "source": [
    "import numpy as np\n",
    "import matplotlib.pyplot as plt\n",
    "import os"
   ]
  },
  {
   "cell_type": "code",
   "execution_count": 16,
   "metadata": {},
   "outputs": [],
   "source": [
    "# Set parameters here \n",
    "INPUT_SIZE = 128\n",
    "mapping = {0:'normal', 1:'abnormal'}\n",
    "NUMCLASSES = len(mapping)\n",
    "\n",
    "folder = r'C:\\Users\\arung\\OneDrive\\Desktop\\COVID 19 Chest Xray\\nih'\n",
    "\n",
    "trainFolder = folder + r'\\train'\n",
    "valFolder = folder + r'\\val'\n",
    "testFolder = folder + r'\\test'\n"
   ]
  },
  {
   "cell_type": "code",
   "execution_count": 17,
   "metadata": {},
   "outputs": [],
   "source": [
    "from skimage.io import imread, imsave\n",
    "from skimage.transform import resize\n",
    "\n",
    "def make_labels(label):\n",
    "    labels = np.zeros([NUMCLASSES],np.uint8)\n",
    "    labels[label] = 1\n",
    "    return labels\n",
    "    \n",
    "def train_data_with_label():\n",
    "    train_images = []\n",
    "    \n",
    "    fileList1 = os.listdir(trainFolder + r'\\normal')\n",
    "    labels1 = np.zeros(len(fileList1),'uint8')\n",
    "    fileList2 = os.listdir(trainFolder + r'\\abnormal')\n",
    "    labels2 = np.ones(len(fileList2),'uint8')\n",
    "    train_x = np.array(fileList1 + fileList2)\n",
    "    train_y = np.concatenate((labels1,labels2),axis=0)\n",
    "    \n",
    "    for fileNum in range(train_x.shape[0]):\n",
    "        fileName = trainFolder + '\\\\' + mapping[train_y[fileNum]]+ '\\\\' + train_x[fileNum]\n",
    "        label = train_y[fileNum]\n",
    "        img = resize(imread(fileName),(INPUT_SIZE,INPUT_SIZE))\n",
    "        train_images.append([img, make_labels(label)])\n",
    "    np.random.shuffle(train_images)\n",
    "    return train_images\n",
    "\n",
    "def validation_data_with_label():\n",
    "    validation_images = []\n",
    "    \n",
    "    fileList1 = os.listdir(valFolder + r'\\normal')\n",
    "    labels1 = np.zeros(len(fileList1),'uint8')\n",
    "    fileList2 = os.listdir(valFolder + r'\\abnormal')\n",
    "    labels2 = np.ones(len(fileList2),'uint8')\n",
    "    val_x = np.array(fileList1 + fileList2)\n",
    "    val_y = np.concatenate((labels1,labels2),axis=0)\n",
    "    \n",
    "    for fileNum in range(val_x.shape[0]):\n",
    "        fileName = valFolder + '\\\\' + mapping[val_y[fileNum]]+ '\\\\' + val_x[fileNum]\n",
    "        label = val_y[fileNum]\n",
    "        img = resize(imread(fileName),(INPUT_SIZE,INPUT_SIZE))\n",
    "        validation_images.append([img, make_labels(label)])\n",
    "    np.random.shuffle(validation_images)\n",
    "    return validation_images\n",
    "\n",
    "def test_data_with_label():\n",
    "    test_images = []\n",
    "    \n",
    "    fileList1 = os.listdir(testFolder + r'\\normal')\n",
    "    labels1 = np.zeros(len(fileList1),'uint8')\n",
    "    fileList2 = os.listdir(testFolder + r'\\abnormal')\n",
    "    labels2 = np.ones(len(fileList2),'uint8')\n",
    "    test_x = np.array(fileList1 + fileList2)\n",
    "    test_y = np.concatenate((labels1,labels2),axis=0)\n",
    "    \n",
    "    for fileNum in range(test_x.shape[0]):\n",
    "        fileName = testFolder + '\\\\' + mapping[test_y[fileNum]]+ '\\\\' + test_x[fileNum]\n",
    "        label = test_y[fileNum]\n",
    "        img = resize(imread(fileName),(INPUT_SIZE,INPUT_SIZE))\n",
    "        test_images.append([img, make_labels(label)])\n",
    "    np.random.shuffle(test_images)\n",
    "    return test_images"
   ]
  },
  {
   "cell_type": "code",
   "execution_count": 18,
   "metadata": {},
   "outputs": [
    {
     "name": "stdout",
     "output_type": "stream",
     "text": [
      "(10005, 2)\n",
      "(4014, 2)\n"
     ]
    }
   ],
   "source": [
    "# load in the train and test files\n",
    "training_images = train_data_with_label()\n",
    "validation_images = validation_data_with_label()\n",
    "#test_images = test_data_with_label()\n",
    "\n",
    "print((np.array(training_images)).shape)\n",
    "print((np.array(validation_images)).shape)\n",
    "#print((np.array(test_images)).shape)    "
   ]
  },
  {
   "cell_type": "code",
   "execution_count": 19,
   "metadata": {},
   "outputs": [],
   "source": [
    "tr_img_data = np.array([i[0] for i in training_images]).reshape(-1,INPUT_SIZE,INPUT_SIZE,3)\n",
    "tr_lbl_data = np.array([i[1] for i in training_images])\n",
    "val_img_data = np.array([i[0] for i in validation_images]).reshape(-1,INPUT_SIZE,INPUT_SIZE,3)\n",
    "val_lbl_data = np.array([i[1] for i in validation_images])\n",
    "\n",
    "#test_img_data = np.array([i[0] for i in test_images]).reshape(-1,INPUT_SIZE,INPUT_SIZE,3)\n",
    "#test_lbl_data = np.array([i[1] for i in test_images])\n"
   ]
  },
  {
   "cell_type": "code",
   "execution_count": 20,
   "metadata": {},
   "outputs": [],
   "source": [
    "del training_images\n",
    "del validation_images"
   ]
  },
  {
   "cell_type": "code",
   "execution_count": 28,
   "metadata": {},
   "outputs": [
    {
     "name": "stdout",
     "output_type": "stream",
     "text": [
      "Model: \"sequential_11\"\n",
      "_________________________________________________________________\n",
      "Layer (type)                 Output Shape              Param #   \n",
      "=================================================================\n",
      "conv2d_27 (Conv2D)           (None, 126, 126, 32)      896       \n",
      "_________________________________________________________________\n",
      "conv2d_28 (Conv2D)           (None, 126, 126, 32)      25632     \n",
      "_________________________________________________________________\n",
      "max_pooling2d_22 (MaxPooling (None, 63, 63, 32)        0         \n",
      "_________________________________________________________________\n",
      "conv2d_29 (Conv2D)           (None, 63, 63, 64)        51264     \n",
      "_________________________________________________________________\n",
      "max_pooling2d_23 (MaxPooling (None, 32, 32, 64)        0         \n",
      "_________________________________________________________________\n",
      "conv2d_30 (Conv2D)           (None, 32, 32, 128)       204928    \n",
      "_________________________________________________________________\n",
      "max_pooling2d_24 (MaxPooling (None, 16, 16, 128)       0         \n",
      "_________________________________________________________________\n",
      "dropout_29 (Dropout)         (None, 16, 16, 128)       0         \n",
      "_________________________________________________________________\n",
      "flatten_8 (Flatten)          (None, 32768)             0         \n",
      "_________________________________________________________________\n",
      "dense_19 (Dense)             (None, 128)               4194432   \n",
      "_________________________________________________________________\n",
      "dropout_30 (Dropout)         (None, 128)               0         \n",
      "_________________________________________________________________\n",
      "dense_20 (Dense)             (None, 64)                8256      \n",
      "_________________________________________________________________\n",
      "dropout_31 (Dropout)         (None, 64)                0         \n",
      "_________________________________________________________________\n",
      "dense_21 (Dense)             (None, 32)                2080      \n",
      "_________________________________________________________________\n",
      "dropout_32 (Dropout)         (None, 32)                0         \n",
      "_________________________________________________________________\n",
      "dense_22 (Dense)             (None, 2)                 66        \n",
      "=================================================================\n",
      "Total params: 4,487,554\n",
      "Trainable params: 4,487,554\n",
      "Non-trainable params: 0\n",
      "_________________________________________________________________\n"
     ]
    }
   ],
   "source": [
    "from keras.models import Sequential\n",
    "import keras\n",
    "import tensorflow as tf\n",
    "from keras.layers import *\n",
    "from keras.optimizers import *\n",
    "#from sklearn.model_selection import train_test_split\n",
    "#os.environ['CUDA_VISIBLE_DEVICES'] = '-1'\n",
    "\n",
    "model = Sequential()\n",
    "model.add(Conv2D(32,kernel_size=(3,3),activation='relu',input_shape=(128,128,3)))\n",
    "model.add(Conv2D(filters=32,kernel_size=5,strides=1,padding='same', activation='relu'))\n",
    "model.add(MaxPool2D(pool_size=2,padding='same'))\n",
    "#model.add(Dropout(0.4))\n",
    "\n",
    "model.add(Conv2D(filters=64,kernel_size=5,strides=1,padding='same', activation='relu'))\n",
    "model.add(MaxPool2D(pool_size=2,padding='same'))\n",
    "#model.add(Dropout(0.4))\n",
    "\n",
    "model.add(Conv2D(filters=128,kernel_size=5,strides=1,padding='same', activation='relu'))\n",
    "model.add(MaxPool2D(pool_size=2,padding='same'))\n",
    "model.add(Dropout(0.4))\n",
    "\n",
    "model.add(Flatten())\n",
    "model.add(Dense(128,activation='relu'))\n",
    "model.add(Dropout(0.4))\n",
    "model.add(Dense(64,activation='relu'))\n",
    "model.add(Dropout(0.4))\n",
    "model.add(Dense(32,activation='relu'))\n",
    "model.add(Dropout(0.4))\n",
    "model.add(Dense(NUMCLASSES,activation='softmax'))\n",
    "model.compile(optimizer=Adam(lr=0.0002), loss='categorical_crossentropy',metrics=['accuracy'])\n",
    "model.summary()\n"
   ]
  },
  {
   "cell_type": "code",
   "execution_count": 33,
   "metadata": {},
   "outputs": [
    {
     "name": "stdout",
     "output_type": "stream",
     "text": [
      "Train on 10005 samples, validate on 4014 samples\n",
      "Epoch 1/40\n",
      "10005/10005 [==============================] - 45s 4ms/step - loss: 0.1134 - accuracy: 0.9061 - val_loss: 1.1902 - val_accuracy: 0.6158\n",
      "Epoch 2/40\n",
      "10005/10005 [==============================] - 47s 5ms/step - loss: 0.1102 - accuracy: 0.9113 - val_loss: 1.1419 - val_accuracy: 0.6074\n",
      "Epoch 3/40\n",
      "10005/10005 [==============================] - 49s 5ms/step - loss: 0.1020 - accuracy: 0.9156 - val_loss: 1.2577 - val_accuracy: 0.5999\n",
      "Epoch 4/40\n",
      "10005/10005 [==============================] - 49s 5ms/step - loss: 0.0991 - accuracy: 0.9197 - val_loss: 1.3108 - val_accuracy: 0.6074\n",
      "Epoch 5/40\n",
      "10005/10005 [==============================] - 49s 5ms/step - loss: 0.0971 - accuracy: 0.9215 - val_loss: 1.3380 - val_accuracy: 0.6086\n",
      "Epoch 6/40\n",
      "10005/10005 [==============================] - 49s 5ms/step - loss: 0.0942 - accuracy: 0.9245 - val_loss: 1.4053 - val_accuracy: 0.5899\n",
      "Epoch 7/40\n",
      "10005/10005 [==============================] - 48s 5ms/step - loss: 0.0870 - accuracy: 0.9289 - val_loss: 1.3387 - val_accuracy: 0.6151\n",
      "Epoch 8/40\n",
      "10005/10005 [==============================] - 48s 5ms/step - loss: 0.0872 - accuracy: 0.9293 - val_loss: 1.2324 - val_accuracy: 0.6006\n",
      "Epoch 9/40\n",
      "10005/10005 [==============================] - 48s 5ms/step - loss: 0.0869 - accuracy: 0.9303 - val_loss: 1.3726 - val_accuracy: 0.6146\n",
      "Epoch 10/40\n",
      "10005/10005 [==============================] - 48s 5ms/step - loss: 0.0799 - accuracy: 0.9378 - val_loss: 1.4252 - val_accuracy: 0.5994\n",
      "Epoch 11/40\n",
      "10005/10005 [==============================] - 48s 5ms/step - loss: 0.0769 - accuracy: 0.9387 - val_loss: 1.3242 - val_accuracy: 0.6076\n",
      "Epoch 12/40\n",
      "10005/10005 [==============================] - 48s 5ms/step - loss: 0.0712 - accuracy: 0.9443 - val_loss: 1.6317 - val_accuracy: 0.6116\n",
      "Epoch 13/40\n",
      "10005/10005 [==============================] - 48s 5ms/step - loss: 0.0708 - accuracy: 0.9436 - val_loss: 1.5384 - val_accuracy: 0.5897\n",
      "Epoch 14/40\n",
      "10005/10005 [==============================] - 48s 5ms/step - loss: 0.0731 - accuracy: 0.9433 - val_loss: 1.4058 - val_accuracy: 0.6056\n",
      "Epoch 15/40\n",
      "10005/10005 [==============================] - 48s 5ms/step - loss: 0.0679 - accuracy: 0.9473 - val_loss: 1.3369 - val_accuracy: 0.6096\n",
      "Epoch 16/40\n",
      "10005/10005 [==============================] - 48s 5ms/step - loss: 0.0681 - accuracy: 0.9468 - val_loss: 1.5825 - val_accuracy: 0.6094\n",
      "Epoch 17/40\n",
      "10005/10005 [==============================] - 48s 5ms/step - loss: 0.0639 - accuracy: 0.9506 - val_loss: 1.6537 - val_accuracy: 0.6086\n",
      "Epoch 18/40\n",
      "10005/10005 [==============================] - 48s 5ms/step - loss: 0.0618 - accuracy: 0.9518 - val_loss: 1.5340 - val_accuracy: 0.6001\n",
      "Epoch 19/40\n",
      "10005/10005 [==============================] - 48s 5ms/step - loss: 0.0656 - accuracy: 0.9505 - val_loss: 1.4244 - val_accuracy: 0.6056\n",
      "Epoch 20/40\n",
      "10005/10005 [==============================] - 48s 5ms/step - loss: 0.0597 - accuracy: 0.9541 - val_loss: 1.5722 - val_accuracy: 0.6116\n",
      "Epoch 21/40\n",
      "10005/10005 [==============================] - 48s 5ms/step - loss: 0.0586 - accuracy: 0.9551 - val_loss: 1.5441 - val_accuracy: 0.6024\n",
      "Epoch 22/40\n",
      "10005/10005 [==============================] - 48s 5ms/step - loss: 0.0533 - accuracy: 0.9605 - val_loss: 1.6760 - val_accuracy: 0.5964\n",
      "Epoch 23/40\n",
      "10005/10005 [==============================] - 48s 5ms/step - loss: 0.0629 - accuracy: 0.9527 - val_loss: 1.6824 - val_accuracy: 0.6101\n",
      "Epoch 24/40\n",
      "10005/10005 [==============================] - 48s 5ms/step - loss: 0.0597 - accuracy: 0.9563 - val_loss: 1.5718 - val_accuracy: 0.6208\n",
      "Epoch 25/40\n",
      "10005/10005 [==============================] - 48s 5ms/step - loss: 0.0559 - accuracy: 0.9580 - val_loss: 1.5508 - val_accuracy: 0.6036\n",
      "Epoch 26/40\n",
      "10005/10005 [==============================] - 48s 5ms/step - loss: 0.0553 - accuracy: 0.9570 - val_loss: 1.4181 - val_accuracy: 0.5907\n",
      "Epoch 27/40\n",
      "10005/10005 [==============================] - 48s 5ms/step - loss: 0.0607 - accuracy: 0.9545 - val_loss: 1.3323 - val_accuracy: 0.5954\n",
      "Epoch 28/40\n",
      "10005/10005 [==============================] - 48s 5ms/step - loss: 0.0533 - accuracy: 0.9620 - val_loss: 1.4695 - val_accuracy: 0.5989\n",
      "Epoch 29/40\n",
      "10005/10005 [==============================] - 85s 8ms/step - loss: 0.0505 - accuracy: 0.9606 - val_loss: 1.7436 - val_accuracy: 0.5872\n",
      "Epoch 30/40\n",
      "10005/10005 [==============================] - 75s 7ms/step - loss: 0.0540 - accuracy: 0.9589 - val_loss: 1.8722 - val_accuracy: 0.6109\n",
      "Epoch 31/40\n",
      "10005/10005 [==============================] - 48s 5ms/step - loss: 0.0486 - accuracy: 0.9626 - val_loss: 1.7203 - val_accuracy: 0.6039\n",
      "Epoch 32/40\n",
      "10005/10005 [==============================] - 48s 5ms/step - loss: 0.0496 - accuracy: 0.9638 - val_loss: 1.6925 - val_accuracy: 0.6011\n",
      "Epoch 33/40\n",
      "10005/10005 [==============================] - 48s 5ms/step - loss: 0.0448 - accuracy: 0.9653 - val_loss: 1.9112 - val_accuracy: 0.6064\n",
      "Epoch 34/40\n",
      "10005/10005 [==============================] - 50s 5ms/step - loss: 0.0477 - accuracy: 0.9648 - val_loss: 2.0232 - val_accuracy: 0.5899\n",
      "Epoch 35/40\n",
      "10005/10005 [==============================] - 49s 5ms/step - loss: 0.0476 - accuracy: 0.9630 - val_loss: 1.7241 - val_accuracy: 0.5982\n",
      "Epoch 36/40\n",
      "10005/10005 [==============================] - 49s 5ms/step - loss: 0.0411 - accuracy: 0.9688 - val_loss: 1.9185 - val_accuracy: 0.6158\n",
      "Epoch 37/40\n",
      "10005/10005 [==============================] - 49s 5ms/step - loss: 0.0457 - accuracy: 0.9649 - val_loss: 2.0324 - val_accuracy: 0.6178\n",
      "Epoch 38/40\n",
      "10005/10005 [==============================] - 49s 5ms/step - loss: 0.0466 - accuracy: 0.9658 - val_loss: 1.5832 - val_accuracy: 0.6014\n",
      "Epoch 39/40\n",
      "10005/10005 [==============================] - 49s 5ms/step - loss: 0.0412 - accuracy: 0.9701 - val_loss: 1.9183 - val_accuracy: 0.5959\n",
      "Epoch 40/40\n",
      "10005/10005 [==============================] - 49s 5ms/step - loss: 0.0452 - accuracy: 0.9660 - val_loss: 1.6585 - val_accuracy: 0.5884\n",
      "saved model to disk\n"
     ]
    }
   ],
   "source": [
    "#training\n",
    "c_weights = {0:0.4,\n",
    "                 1:0.6}\n",
    "history = model.fit(x=tr_img_data, y = tr_lbl_data, epochs = 40,batch_size = 8,verbose = 1,\n",
    "                    validation_data = (val_img_data, val_lbl_data),class_weight = c_weights)\n",
    "model.save_weights(\"model-normalized.h5\")\n",
    "print(\"saved model to disk\")"
   ]
  },
  {
   "cell_type": "code",
   "execution_count": 34,
   "metadata": {},
   "outputs": [
    {
     "data": {
      "text/plain": [
       "dict_keys(['val_loss', 'val_accuracy', 'loss', 'accuracy'])"
      ]
     },
     "execution_count": 34,
     "metadata": {},
     "output_type": "execute_result"
    }
   ],
   "source": [
    "history.history.keys()"
   ]
  },
  {
   "cell_type": "code",
   "execution_count": 35,
   "metadata": {},
   "outputs": [
    {
     "data": {
      "image/png": "[encoded data removed]",
      "text/plain": [
       "<Figure size 576x288 with 1 Axes>"
      ]
     },
     "metadata": {
      "needs_background": "light"
     },
     "output_type": "display_data"
    }
   ],
   "source": [
    "fig = plt.figure(figsize=(8,4))\n",
    "plt.plot(history.history['loss'],color='red')\n",
    "plt.plot(history.history['accuracy'],color='green')\n",
    "plt.plot(history.history['val_loss'],color='magenta')\n",
    "plt.plot(history.history['val_accuracy'],color='blue')\n",
    "plt.show()\n"
   ]
  },
  {
   "cell_type": "code",
   "execution_count": null,
   "metadata": {},
   "outputs": [],
   "source": []
  }
 ],
 "metadata": {
  "kernelspec": {
   "display_name": "Python 3",
   "language": "python",
   "name": "python3"
  },
  "language_info": {
   "codemirror_mode": {
    "name": "ipython",
    "version": 3
   },
   "file_extension": ".py",
   "mimetype": "text/x-python",
   "name": "python",
   "nbconvert_exporter": "python",
   "pygments_lexer": "ipython3",
   "version": "3.7.6"
  }
 },
 "nbformat": 4,
 "nbformat_minor": 4
}
